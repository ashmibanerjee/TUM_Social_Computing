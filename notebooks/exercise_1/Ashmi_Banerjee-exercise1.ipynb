{
 "cells": [
  {
   "cell_type": "markdown",
   "metadata": {
    "collapsed": true
   },
   "source": [
    "# Social Computing - Summer 2018\n",
    "# Exercise 1 - Introduction to Python\n",
    "\n",
    "This is small set of programming problems to help you to get familiar with the Python programming language. The aim is to cover Python core concepts and data structures that should be used in the next exercises.\n",
    "\n",
    "### Problem 1.1: Just Getting Warmed Up (Methods): Fibonacci Series\n",
    "Write a Python method called fibonacci, that takes an integer number N as argument and returns the Fibonacci sequence of length N.\n",
    "\n",
    "Remember: a Fibonacci sequence is a sequence of numbers where each number is the sum of the two previous ones. \n",
    "(E.g The Fibonacci sequence of length 5 is: 1, 2, 3, 5, 8 )"
   ]
  },
  {
   "cell_type": "code",
   "execution_count": 61,
   "metadata": {
    "collapsed": true
   },
   "outputs": [],
   "source": [
    "# Write your Python method here\n",
    "\n",
    "def fibonacci(N):   \n",
    "    n1 = 0\n",
    "    n2 = 1\n",
    "    count = 0\n",
    "    result = []\n",
    "    # check if the number of terms is valid\n",
    "    if N <= 0:\n",
    "       print(\"It works for only positive integers!\")\n",
    "    elif N == 1:\n",
    "       print(\"Fibonacci sequence of length \",N,\":\")\n",
    "       print(n2)\n",
    "    else:\n",
    "       print(\"Fibonacci sequence of length \",N,\":\")\n",
    "       while count < N:\n",
    "           \n",
    "           nth = n1 + n2\n",
    "           result.append(nth)\n",
    "           # update values\n",
    "           n1 = n2\n",
    "           n2 = nth\n",
    "           count += 1\n",
    "    print(result)"
   ]
  },
  {
   "cell_type": "code",
   "execution_count": 63,
   "metadata": {},
   "outputs": [
    {
     "name": "stdout",
     "output_type": "stream",
     "text": [
      "Fibonacci sequence of length  10 :\n",
      "[1, 2, 3, 5, 8, 13, 21, 34, 55, 89]\n"
     ]
    }
   ],
   "source": [
    "fibonacci(10)"
   ]
  },
  {
   "cell_type": "markdown",
   "metadata": {
    "collapsed": true
   },
   "source": [
    "### Problem 1.2: Loops and user input..\n",
    "\n",
    "In this section you will program a litte \"Guess the number game\". The computer will think about a random number between 1 and 100. The player will have 5 tries to guess the number correctly. Each time the player guesses the computer gives a hint ( higher/lower). At the end the correct guessed or not guessed number, as well as the needed tries to get there should be printed out in the console.\n"
   ]
  },
  {
   "cell_type": "code",
   "execution_count": 51,
   "metadata": {},
   "outputs": [
    {
     "name": "stdout",
     "output_type": "stream",
     "text": [
      "\tWelcome to 'Guess My Number'!\n",
      "\n",
      "I'm thinking of a number between 1 and 100.\n",
      "Try to guess it in as few attempts as possible.\n",
      "\n",
      "Enter your number: 24\n",
      "My number is greater than your number\n",
      "Enter your number: 66\n",
      "My number is lesser than your number\n",
      "Enter your number: 89\n",
      "My number is lesser than your number\n",
      "Enter your number: 22\n",
      "My number is greater than your number\n",
      "Enter your number: 34\n",
      "My number is greater than your number\n",
      "\n",
      " \n",
      "Sorry the chances are over! My number was:  46\n"
     ]
    }
   ],
   "source": [
    "import random\n",
    "\n",
    "print(\"\\tWelcome to 'Guess My Number'!\")\n",
    "print(\"\\nI'm thinking of a number between 1 and 100.\")\n",
    "print(\"Try to guess it in as few attempts as possible.\\n\")\n",
    "\n",
    "# set the initial values\n",
    "the_number = random.randint(1, 100)\n",
    "# write your code here\n",
    "flag = 0\n",
    "for i in range(0,5):\n",
    "    number = input(\"Enter your number: \")\n",
    "    if the_number > int(number) :\n",
    "        print(\"My number is greater than your number\")\n",
    "    elif the_number < int(number):\n",
    "        print(\"My number is lesser than your number\")\n",
    "    else:\n",
    "        print(\"Yaaay !! You have guessed the right number !!\")\n",
    "        flag = 1\n",
    "        break\n",
    "\n",
    "if flag == 0:\n",
    "    print(\"\\n \\nSorry the chances are over! My number was: \", the_number)\n",
    "else:\n",
    "    print(\"\\n \\nYou guessed it and it took you only \",str(i+1), \" tries to guess!! \")"
   ]
  },
  {
   "cell_type": "markdown",
   "metadata": {},
   "source": [
    "## Problem 1.3: It's Social Computing, we use graphs, a lot of graphs... Python igraph:\n",
    "In social computing research, we need powerful tools to create, maniuplate, and display graphs. Luckily, there is a plethora of tools and libaries for that. For the next exercises, we are going to use igraph [http://igraph.org/] which also comes as a Python library [http://igraph.org/python/]. igraph provides rich graph data structures and many out-of-the-box functions to process graphs and calculate different metrics.\n",
    "As mentioned in [http://igraph.org/python/], to install python igraph, <br>\n",
    "<b>On Mac OS X</b><br>\n",
    "you to run the command:<br>\n",
    "pip install python-igraph<br>\n",
    "\n",
    "<b>On Windows:</b><br>\n",
    "pip install python-igraph may not work for you!<br>\n",
    "You will need to install the library from [http://www.lfd.uci.edu/~gohlke/pythonlibs/].<br>\n",
    "Pick the library suitable for your Python version and your computer architecture. E.g.<br>\n",
    "python_igraph-0.7.1.post6-cp27-none-win_amd64.whl (this is for Python 2.7 (cp27), and amd 64 bit architecture)<br>\n",
    "Note: these whl files are run with the pip command.<br>\n",
    "A more detailled explanation of the installation can be found in the \"istallation guide iPython.pdf\" on Piazza.<br>\n",
    "\n",
    "The purpose of this exercise is to make you familiar with the igraph Python library. The library includes famous graphs that can readily be instantiated and used.\n",
    "\n",
    "\n",
    "\n",
    "<b>Exercise Part 1:</b><br>\n",
    "Create a graph object that represents the Krackhardt Kite graph, which is a simple connected, unweighted, undirected social network.<br>\n",
    "Next, plot the graph<br>\n",
    "(**Note**: to enable igraph plotting functionality in IPython Notebook, you need to install the graphics library: Cairo [http://cairographics.org/] and PyCairo (or Py2Cairo depending on the Python version you use) [http://cairographics.org/pycairo/resources/].<br>\n",
    "<b>For Mac OS X</b>, the easiest way to install PyCairo is through homebrew [http://brew.sh/].<br>\n",
    "* First install homebrew using the command: /usr/bin/ruby -e \"$(curl -fsSL https://raw.githubusercontent.com/Homebrew/install/master/install)\"\n",
    "* run the command:<br>\n",
    "brew install py2cairo<br>\n",
    "\n",
    "<b>For Windows:</b><br>\n",
    "* You already have package installers you can download from the website [https://cairographics.org/pycairo/resources/]\n",
    "But they are for win32<br>\n",
    "* If you are running and 64bit machine, you can use unofficial installers from here<br> [http://www.lfd.uci.edu/~gohlke/pythonlibs/]:<br>\n",
    "Install the following library: pycairo-1.10.0-cp27-none-win_amd64.whl<br>\n",
    "Note: cp27 stands for python 2.7 (so pick the version relevant to your Python)<br>\n",
    "\n",
    "Now, that you are all set: Display the graph and notice how it looks. If you are experiencing errors with the graph visualization, it is most likely because cairo or py2cairo are not installed correctly. <br>\n",
    "\n",
    "For further information about igraph, we recommend the following tutorial: http://igraph.org/python/doc/tutorial/tutorial.html\n",
    "\n",
    "\n",
    "<b>Background information: Graph Visualization</b><br>\n",
    "Graph visualization is the research area in mathematics/computer science concerned with drawing graphs. It has applications in many fields, one of them is social computing. The quality of a graph visualization is measured based on certain criteria, for example: crossing minimization, and bend minimization. There are many graph drawing algorithms that vary in their quality according to the graph's application and size. One technique is drawing graphs by using physical analogies. The basic idea of this technique is to associate edges between graph nodes with physical forces acting upon the nodes and computing an energy minimum. By setting off the dynamics that is induced by the forces, the graph will finally settle into a natural optimal display. A famous algorithm that implements this technique is the Fruchtermann/Rheingold algorithm. Its basic idea is to replace the graph edges with mechanical springs, and let the springs move the system to a minimal energy state.<br>\n",
    "\n",
    "<b>Exercise Part 2:</b><br>\n",
    "Using igraph, display a small world graph (Watts Strogatz graph) with 20 nodes and the following parameters: dimension: 1, nodes connected to neighbors of distance of most: 3, and rewiring probability: 0. Now vary the parameters and run your code again. What do you notice? What happens when you increase the rewiring probability (e.g., to 0.25). <br> \n",
    "Set the graph layout to Fruchtermann/Reingold. What changes? <br>\n",
    "Don't write more than 5 sentences."
   ]
  },
  {
   "cell_type": "code",
   "execution_count": 64,
   "metadata": {},
   "outputs": [],
   "source": [
    "# solve Exercise P1\n",
    "# Hint: Use igraph functions\n",
    "import igraph as ig\n",
    "krackhardt_kite = ig.Graph.Famous('Krackhardt_Kite')\n"
   ]
  },
  {
   "cell_type": "code",
   "execution_count": 65,
   "metadata": {},
   "outputs": [
    {
     "name": "stdout",
     "output_type": "stream",
     "text": [
      "IGRAPH U--- 10 18 --\n",
      "+ edges:\n",
      " 0 --  1  2  3  5          4 --  1  3  6             8 --  7  9\n",
      " 1 --  0  3  4  6          5 --  0  2  3  6  7       9 --  8\n",
      " 2 --  0  3  5             6 --  1  3  4  5  7\n",
      " 3 --  0  1  2  4  5  6    7 --  5  6  8\n"
     ]
    }
   ],
   "source": [
    "print(krackhardt_kite)"
   ]
  },
  {
   "cell_type": "code",
   "execution_count": 66,
   "metadata": {},
   "outputs": [
    {
     "name": "stdout",
     "output_type": "stream",
     "text": [
      "<Layout with 10 vertices and 2 dimensions>\n"
     ]
    }
   ],
   "source": [
    "layout = krackhardt_kite.layout_fruchterman_reingold()\n",
    "print(layout)"
   ]
  },
  {
   "cell_type": "code",
   "execution_count": 67,
   "metadata": {},
   "outputs": [
    {
     "name": "stdout",
     "output_type": "stream",
     "text": [
      "IGRAPH U--- 20 60 --\n",
      "+ edges:\n",
      " 0 --  1  2  3 17 18 19    7 --  4  5  6  8  9 10   14 -- 11 12 13 15 16 17\n",
      " 1 --  0  2  3  4 18 19    8 --  5  6  7  9 10 11   15 -- 12 13 14 16 17 18\n",
      " 2 --  0  1  3  4  5 19    9 --  6  7  8 10 11 12   16 -- 13 14 15 17 18 19\n",
      " 3 --  0  1  2  4  5  6   10 --  7  8  9 11 12 13   17 --  0 14 15 16 18 19\n",
      " 4 --  1  2  3  5  6  7   11 --  8  9 10 12 13 14   18 --  0  1 15 16 17 19\n",
      " 5 --  2  3  4  6  7  8   12 --  9 10 11 13 14 15   19 --  0  1  2 16 17 18\n",
      " 6 --  3  4  5  7  8  9   13 -- 10 11 12 14 15 16\n"
     ]
    }
   ],
   "source": [
    "# solve Exercise Part 2 here:\n",
    "\n",
    "import igraph as ig\n",
    "watts_strogatz = ig.Graph.Watts_Strogatz(dim=1, size=20, nei=3, p=0.0)\n",
    "layout = watts_strogatz.layout_fruchterman_reingold()\n",
    "print(watts_strogatz)"
   ]
  },
  {
   "cell_type": "code",
   "execution_count": 42,
   "metadata": {},
   "outputs": [
    {
     "name": "stdout",
     "output_type": "stream",
     "text": [
      "<Layout with 20 vertices and 2 dimensions>\n"
     ]
    }
   ],
   "source": [
    "print(layout)"
   ]
  },
  {
   "cell_type": "code",
   "execution_count": 43,
   "metadata": {},
   "outputs": [
    {
     "name": "stdout",
     "output_type": "stream",
     "text": [
      "IGRAPH U--- 40 120 --\n",
      "+ edges:\n",
      " 0 --  1  3 11 17 37 38         16 -- 11 13 15 18 35            32 -- 15 25 30\n",
      "31 35\n",
      " 1 --  0  4  8 22 29 38 39      17 --  0  4 15 19 20 28         33 -- 13 31 34\n",
      "35 36 39\n",
      " 2 --  3  4  5  6  7  8 25      18 -- 12 15 16 19 21            34 -- 19 27 31\n",
      "33 35 36 37\n",
      " 3 --  0  2  5  6 15 26 27 39   19 -- 17 18 20 22 27 30 34      35 -- 16 20 32\n",
      "33 34 36 37\n",
      " 4 --  1  2  5  6  8 17 25      20 -- 14 17 19 21 22 35         36 -- 33 34 35\n",
      "37 39\n",
      " 5 --  2  3  4  7  8            21 -- 14 18 20 22 23 38 39      37 --  0  6 34\n",
      "35 36 39\n",
      " 6 --  2  3  4  9 22 37         22 --  1  6 19 20 21 23 24      38 --  0  1 21\n",
      "29\n",
      " 7 --  2  5  8 10 14 27         23 -- 21 22 24 26               39 --  1  3 21\n",
      "27 33 36 37\n",
      " 8 --  1  2  4  5  7            24 -- 11 13 22 23 25\n",
      " 9 --  6 10 28 30               25 --  2  4 14 24 26 27 28 32\n",
      "10 --  7  9 12 13               26 --  3 12 23 25\n",
      "11 --  0 12 14 16 24 27 29      27 --  3  7 11 19 25 28 34 39\n",
      "12 -- 10 11 13 15 18 26 29      28 --  9 17 25 27 29 30 31\n",
      "13 -- 10 12 16 24 33            29 --  1 11 12 28 30 31 38\n",
      "14 --  7 11 20 21 25            30 --  9 19 28 29 31 32\n",
      "15 --  3 12 16 17 18 32         31 -- 28 29 30 32 33 34\n"
     ]
    }
   ],
   "source": [
    "watts_strogatz = ig.Graph.Watts_Strogatz(dim=1, size=40, nei=3, p=0.25)\n",
    "layout = watts_strogatz.layout_fruchterman_reingold()\n",
    "print(watts_strogatz)"
   ]
  },
  {
   "cell_type": "code",
   "execution_count": 44,
   "metadata": {},
   "outputs": [
    {
     "name": "stdout",
     "output_type": "stream",
     "text": [
      "<Layout with 40 vertices and 2 dimensions>\n"
     ]
    }
   ],
   "source": [
    "print(layout)"
   ]
  },
  {
   "cell_type": "markdown",
   "metadata": {
    "collapsed": true
   },
   "source": [
    "Write your observations for Part 2 here\n"
   ]
  },
  {
   "cell_type": "markdown",
   "metadata": {},
   "source": [
    "With an increase in the number of nodes, the number of edges also increase to maintain the minimum distance between any pair of nodes.\n"
   ]
  }
 ],
 "metadata": {
  "anaconda-cloud": {},
  "kernelspec": {
   "display_name": "Python 3",
   "language": "python",
   "name": "python3"
  },
  "language_info": {
   "codemirror_mode": {
    "name": "ipython",
    "version": 3
   },
   "file_extension": ".py",
   "mimetype": "text/x-python",
   "name": "python",
   "nbconvert_exporter": "python",
   "pygments_lexer": "ipython3",
   "version": "3.6.3"
  }
 },
 "nbformat": 4,
 "nbformat_minor": 1
}
